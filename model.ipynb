{
 "cells": [
  {
   "cell_type": "code",
   "execution_count": 1,
   "metadata": {},
   "outputs": [],
   "source": [
    "import numpy as np\n",
    "import pandas as pd\n",
    "import matplotlib.pyplot as plt\n",
    "from formatting_data import get_data_frame"
   ]
  },
  {
   "cell_type": "code",
   "execution_count": 2,
   "metadata": {},
   "outputs": [],
   "source": [
    "df, game_df = get_data_frame()"
   ]
  },
  {
   "cell_type": "code",
   "execution_count": 3,
   "metadata": {},
   "outputs": [],
   "source": [
    "class Collaborative_filtering:\n",
    "    def __init__(self):\n",
    "        print('Model created')\n",
    "\n",
    "    def load_data(self, df=None, game_df=None):\n",
    "        if not (df is None) and df.shape[1] == 3 and not (game_df is None) and game_df.shape[1] == 2:\n",
    "            try:\n",
    "                self.df = df\n",
    "                self.game_df = game_df\n",
    "\n",
    "                #creating utility matrix\n",
    "                self.utility_matrix = df.pivot_table(index=df.columns[0], columns=df.columns[1], values=df.columns[2], fill_value=0)\n",
    "                self.utility_matrix = self.utility_matrix.to_numpy()\n",
    "\n",
    "                #mean normalisation\n",
    "                self.mean_vector = self.utility_matrix.mean(axis=1)\n",
    "                self.utility_matrix = (self.utility_matrix.T - self.mean_vector).T\n",
    "\n",
    "                self.utility_shape =self.utility_matrix.shape\n",
    "                \n",
    "                print('Data loaded sucessfully')\n",
    "            except Exception as e:\n",
    "                print(f'Error loading data.\\n{e}')\n",
    "        elif df is None:\n",
    "            print('No dataframe is provided')\n",
    "        else:\n",
    "            print('Data not in the right format')\n",
    "\n",
    "    def initialise(self, num_features=100):\n",
    "        if not self.utility_matrix is None:\n",
    "            self.user_matrix = np.random.uniform(0, 1, (self.utility_shape[0], num_features))\n",
    "            self.item_matrix = np.random.uniform(0, 1, (self.utility_shape[1], num_features))\n",
    "            print('Model\\'s varaibles initialised')\n",
    "        else:\n",
    "            print('Data not loaded')\n",
    "\n",
    "    def train(self, X_train, y_train):\n",
    "        print('Training model')\n",
    "\n",
    "    def predict(self, X):\n",
    "        prediction = self.user_matrix @ self.item_matrix.T\n",
    "        print('Predicted')\n"
   ]
  },
  {
   "cell_type": "code",
   "execution_count": 4,
   "metadata": {},
   "outputs": [],
   "source": [
    "#model = Collaborative_filtering()"
   ]
  },
  {
   "cell_type": "code",
   "execution_count": 5,
   "metadata": {},
   "outputs": [],
   "source": [
    "#model.load_data(df, game_df)"
   ]
  },
  {
   "cell_type": "code",
   "execution_count": 6,
   "metadata": {},
   "outputs": [],
   "source": [
    "utility_matrix = df.pivot_table(index=df.columns[0], columns=df.columns[1], values=df.columns[2], fill_value=0)\n",
    "utility_matrix = utility_matrix.to_numpy(dtype=np.float32)"
   ]
  },
  {
   "cell_type": "code",
   "execution_count": 7,
   "metadata": {},
   "outputs": [],
   "source": [
    "mean_vector = utility_matrix.mean(axis=1)"
   ]
  },
  {
   "cell_type": "code",
   "execution_count": 8,
   "metadata": {},
   "outputs": [],
   "source": [
    "utility_matrix = (utility_matrix.T - mean_vector).T"
   ]
  },
  {
   "cell_type": "code",
   "execution_count": 14,
   "metadata": {},
   "outputs": [],
   "source": [
    "user_matrix = np.random.uniform(-1, 1, (utility_matrix.shape[0], 100))\n",
    "item_matrix = np.random.uniform(-1, 1, (utility_matrix.shape[1], 100))\n",
    "user_matrix = user_matrix.astype(np.float32)\n",
    "item_matrix = item_matrix.astype(np.float32)"
   ]
  },
  {
   "cell_type": "code",
   "execution_count": 16,
   "metadata": {},
   "outputs": [],
   "source": [
    "prediction = user_matrix @ item_matrix.T"
   ]
  },
  {
   "cell_type": "code",
   "execution_count": 17,
   "metadata": {},
   "outputs": [
    {
     "data": {
      "text/plain": [
       "(70912, 10978)"
      ]
     },
     "execution_count": 17,
     "metadata": {},
     "output_type": "execute_result"
    }
   ],
   "source": [
    "prediction.shape"
   ]
  }
 ],
 "metadata": {
  "kernelspec": {
   "display_name": "env",
   "language": "python",
   "name": "python3"
  },
  "language_info": {
   "codemirror_mode": {
    "name": "ipython",
    "version": 3
   },
   "file_extension": ".py",
   "mimetype": "text/x-python",
   "name": "python",
   "nbconvert_exporter": "python",
   "pygments_lexer": "ipython3",
   "version": "3.10.8"
  }
 },
 "nbformat": 4,
 "nbformat_minor": 2
}
